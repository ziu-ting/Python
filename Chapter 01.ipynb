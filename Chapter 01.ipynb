{
 "cells": [
  {
   "cell_type": "code",
   "execution_count": 1,
   "metadata": {
    "collapsed": false
   },
   "outputs": [
    {
     "name": "stdout",
     "output_type": "stream",
     "text": [
      "5\n",
      "4\n",
      "3\n",
      "2\n",
      "1\n",
      "Good Morning \\OWO/\n"
     ]
    }
   ],
   "source": [
    "for countdown in 5, 4, 3, 2, 1, \"Good Morning \\OWO/\":\n",
    "    print(countdown)"
   ]
  },
  {
   "cell_type": "code",
   "execution_count": 2,
   "metadata": {
    "collapsed": false
   },
   "outputs": [
    {
     "name": "stdout",
     "output_type": "stream",
     "text": [
      "「台科大電機系蕭鈞毓老師獲2015年全球第一屆永守獎」媒體報導\n"
     ]
    }
   ],
   "source": [
    "News = [\n",
    "    \"「英國Times世界大學排名 台科大排名進步」媒體報導\",\n",
    "    \"「台科大電機系蕭鈞毓老師獲2015年全球第一屆永守獎」媒體報導\",\n",
    "    \"「台科大生赴泰北偏鄉小學傳愛」媒體報導\",    \n",
    "]\n",
    "print(News[1])"
   ]
  },
  {
   "cell_type": "code",
   "execution_count": 3,
   "metadata": {
    "collapsed": false
   },
   "outputs": [
    {
     "name": "stdout",
     "output_type": "stream",
     "text": [
      "Be that as it may\n"
     ]
    }
   ],
   "source": [
    "cliches = [\n",
    "    \"At the end of the day\",\n",
    "    \"Having said that\",\n",
    "    \"The fact of the matter is\",\n",
    "    \"Be that as it may\",\n",
    "    \"If you will\",\n",
    "]\n",
    "print(cliches[3])"
   ]
  },
  {
   "cell_type": "code",
   "execution_count": 6,
   "metadata": {
    "collapsed": false
   },
   "outputs": [
    {
     "name": "stdout",
     "output_type": "stream",
     "text": [
      "醫生 高冷一笑，說: 不會，讓你的屁放的更大聲。\n"
     ]
    }
   ],
   "source": [
    "jokes = {\n",
    "    \"伯伯\":\"醫生我最近聽力不是很好，連我放屁都聽不見！\",\n",
    "    \"醫生\":\"沒事，我幫你開藥。\",\n",
    "    \"伯伯\":\"吃了我聽力會很好嗎？\",\n",
    "    \"醫生\":\"不會，讓你的屁放的更大聲。\",\n",
    "}\n",
    "stooge = \"醫生\"\n",
    "print(stooge, \"高冷一笑，說:\", jokes[stooge])"
   ]
  },
  {
   "cell_type": "code",
   "execution_count": 7,
   "metadata": {
    "collapsed": false
   },
   "outputs": [
    {
     "name": "stdout",
     "output_type": "stream",
     "text": [
      "Moe said: A wise guy, huh?\n"
     ]
    }
   ],
   "source": [
    "quotes = {\n",
    "    \"Moe\":\"A wise guy, huh?\",\n",
    "    \"Larry\":\"Ow!\",\n",
    "    \"Curly\":\"Nyuk nyuk!\",\n",
    "}\n",
    "stooge = \"Moe\"\n",
    "print(stooge, \"said:\", quotes[stooge])"
   ]
  },
  {
   "cell_type": "code",
   "execution_count": null,
   "metadata": {
    "collapsed": true
   },
   "outputs": [],
   "source": []
  }
 ],
 "metadata": {
  "kernelspec": {
   "display_name": "Python 3",
   "language": "python",
   "name": "python3"
  },
  "language_info": {
   "codemirror_mode": {
    "name": "ipython",
    "version": 3
   },
   "file_extension": ".py",
   "mimetype": "text/x-python",
   "name": "python",
   "nbconvert_exporter": "python",
   "pygments_lexer": "ipython3",
   "version": "3.4.3"
  }
 },
 "nbformat": 4,
 "nbformat_minor": 0
}
