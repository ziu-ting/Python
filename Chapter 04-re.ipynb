{
 "cells": [
  {
   "cell_type": "code",
   "execution_count": 3,
   "metadata": {
    "collapsed": false
   },
   "outputs": [
    {
     "name": "stdout",
     "output_type": "stream",
     "text": [
      "測試註解\n"
     ]
    }
   ],
   "source": [
    "print('測試註解')\n",
    "#這裡是python第四章喔\n",
    "#聽說井字註解非常了不起可以保護我\n",
    "#活脫脫一個自動常駐隱形功能的超輔助型召喚獸"
   ]
  },
  {
   "cell_type": "code",
   "execution_count": 12,
   "metadata": {
    "collapsed": false
   },
   "outputs": [
    {
     "data": {
      "text/plain": [
       "'git shell出現紅色、還有金色、正常的水藍、總算亮綠'"
      ]
     },
     "execution_count": 12,
     "metadata": {},
     "output_type": "execute_result"
    }
   ],
   "source": [
    "saying = ''\n",
    "saying += 'git shell'\n",
    "saying += '出現紅色、'\n",
    "saying += '還有金色、'\n",
    "saying += '正常的水藍、'\n",
    "saying += '總算亮綠'\n",
    "\n",
    "saying"
   ]
  },
  {
   "cell_type": "code",
   "execution_count": 13,
   "metadata": {
    "collapsed": false
   },
   "outputs": [
    {
     "data": {
      "text/plain": [
       "'How colorfulgit shell is !!!'"
      ]
     },
     "execution_count": 13,
     "metadata": {},
     "output_type": "execute_result"
    }
   ],
   "source": [
    "saying = 'How colorful' + \\\n",
    "'git shell ' + \\\n",
    "'is' + \\\n",
    "' !!!'\n",
    "\n",
    "saying"
   ]
  },
  {
   "cell_type": "code",
   "execution_count": 14,
   "metadata": {
    "collapsed": false
   },
   "outputs": [
    {
     "ename": "SyntaxError",
     "evalue": "invalid syntax (<ipython-input-14-55838f31a874>, line 1)",
     "output_type": "error",
     "traceback": [
      "\u001b[1;36m  File \u001b[1;32m\"<ipython-input-14-55838f31a874>\"\u001b[1;36m, line \u001b[1;32m1\u001b[0m\n\u001b[1;33m    1+4+\u001b[0m\n\u001b[1;37m        ^\u001b[0m\n\u001b[1;31mSyntaxError\u001b[0m\u001b[1;31m:\u001b[0m invalid syntax\n"
     ]
    }
   ],
   "source": [
    "1+4+\n",
    "5"
   ]
  },
  {
   "cell_type": "code",
   "execution_count": 15,
   "metadata": {
    "collapsed": false
   },
   "outputs": [
    {
     "data": {
      "text/plain": [
       "15"
      ]
     },
     "execution_count": 15,
     "metadata": {},
     "output_type": "execute_result"
    }
   ],
   "source": [
    "3+9+\\\n",
    "3"
   ]
  },
  {
   "cell_type": "code",
   "execution_count": 16,
   "metadata": {
    "collapsed": false
   },
   "outputs": [
    {
     "name": "stdout",
     "output_type": "stream",
     "text": [
      "都說了是傳言嘛~\n"
     ]
    }
   ],
   "source": [
    "rumor = False\n",
    "if rumor:\n",
    "    print('看吧我就說!')\n",
    "else:\n",
    "    print('都說了是傳言嘛~')"
   ]
  },
  {
   "cell_type": "code",
   "execution_count": 17,
   "metadata": {
    "collapsed": false
   },
   "outputs": [
    {
     "name": "stdout",
     "output_type": "stream",
     "text": [
      "機會的劣勢\n"
     ]
    }
   ],
   "source": [
    "#SWOT\n",
    "external = True\n",
    "internal = False\n",
    "if external:\n",
    "    if internal:\n",
    "        print('機會的優勢')\n",
    "    else:\n",
    "        print('機會的劣勢')\n",
    "else:\n",
    "    if internal:\n",
    "        print('風險的優勢')\n",
    "    else:\n",
    "        print('風險的劣勢')"
   ]
  },
  {
   "cell_type": "code",
   "execution_count": 1,
   "metadata": {
    "collapsed": false
   },
   "outputs": [
    {
     "name": "stdout",
     "output_type": "stream",
     "text": [
      "F\n",
      "呵呵~砍掉重練吧! Level F 的小嫩嫩~\n"
     ]
    }
   ],
   "source": [
    "grades = input()\n",
    "if grades == 'A':\n",
    "    print('100~90')\n",
    "elif grades == 'B':\n",
    "    print('89~80')\n",
    "elif grades == 'C':\n",
    "    print('79~70')\n",
    "elif grades == 'D':\n",
    "    print('69~60')\n",
    "else:\n",
    "    print('呵呵~砍掉重練吧!','Level',grades,'的小嫩嫩~')"
   ]
  },
  {
   "cell_type": "code",
   "execution_count": 2,
   "metadata": {
    "collapsed": false
   },
   "outputs": [
    {
     "data": {
      "text/plain": [
       "False"
      ]
     },
     "execution_count": 2,
     "metadata": {},
     "output_type": "execute_result"
    }
   ],
   "source": [
    "z = 3\n",
    "z == 2"
   ]
  },
  {
   "cell_type": "code",
   "execution_count": 3,
   "metadata": {
    "collapsed": false
   },
   "outputs": [
    {
     "data": {
      "text/plain": [
       "True"
      ]
     },
     "execution_count": 3,
     "metadata": {},
     "output_type": "execute_result"
    }
   ],
   "source": [
    "z == 3"
   ]
  },
  {
   "cell_type": "code",
   "execution_count": 4,
   "metadata": {
    "collapsed": false
   },
   "outputs": [
    {
     "data": {
      "text/plain": [
       "True"
      ]
     },
     "execution_count": 4,
     "metadata": {},
     "output_type": "execute_result"
    }
   ],
   "source": [
    "z<5"
   ]
  },
  {
   "cell_type": "code",
   "execution_count": 5,
   "metadata": {
    "collapsed": false
   },
   "outputs": [
    {
     "data": {
      "text/plain": [
       "True"
      ]
     },
     "execution_count": 5,
     "metadata": {},
     "output_type": "execute_result"
    }
   ],
   "source": [
    "1<z and 6>z"
   ]
  },
  {
   "cell_type": "code",
   "execution_count": 6,
   "metadata": {
    "collapsed": false
   },
   "outputs": [
    {
     "data": {
      "text/plain": [
       "True"
      ]
     },
     "execution_count": 6,
     "metadata": {},
     "output_type": "execute_result"
    }
   ],
   "source": [
    "(1<z) and (6>z)"
   ]
  },
  {
   "cell_type": "code",
   "execution_count": 8,
   "metadata": {
    "collapsed": false
   },
   "outputs": [
    {
     "data": {
      "text/plain": [
       "True"
      ]
     },
     "execution_count": 8,
     "metadata": {},
     "output_type": "execute_result"
    }
   ],
   "source": [
    "(1<z) or (6>z)"
   ]
  },
  {
   "cell_type": "code",
   "execution_count": 9,
   "metadata": {
    "collapsed": false
   },
   "outputs": [
    {
     "data": {
      "text/plain": [
       "False"
      ]
     },
     "execution_count": 9,
     "metadata": {},
     "output_type": "execute_result"
    }
   ],
   "source": [
    "(1<z) and (6<z)"
   ]
  },
  {
   "cell_type": "code",
   "execution_count": 10,
   "metadata": {
    "collapsed": false
   },
   "outputs": [
    {
     "data": {
      "text/plain": [
       "False"
      ]
     },
     "execution_count": 10,
     "metadata": {},
     "output_type": "execute_result"
    }
   ],
   "source": [
    "(1<z) and not (6>z)"
   ]
  },
  {
   "cell_type": "code",
   "execution_count": 11,
   "metadata": {
    "collapsed": false
   },
   "outputs": [
    {
     "data": {
      "text/plain": [
       "True"
      ]
     },
     "execution_count": 11,
     "metadata": {},
     "output_type": "execute_result"
    }
   ],
   "source": [
    "1<z<6"
   ]
  },
  {
   "cell_type": "code",
   "execution_count": 12,
   "metadata": {
    "collapsed": false
   },
   "outputs": [
    {
     "data": {
      "text/plain": [
       "True"
      ]
     },
     "execution_count": 12,
     "metadata": {},
     "output_type": "execute_result"
    }
   ],
   "source": [
    "2<z<7<121<9380"
   ]
  },
  {
   "cell_type": "code",
   "execution_count": 14,
   "metadata": {
    "collapsed": false
   },
   "outputs": [
    {
     "name": "stdout",
     "output_type": "stream",
     "text": [
      "無法理解\n"
     ]
    }
   ],
   "source": [
    "sth = {}\n",
    "if sth:\n",
    "    print('我了解了')\n",
    "else:\n",
    "    print('無法理解')"
   ]
  },
  {
   "cell_type": "code",
   "execution_count": 24,
   "metadata": {
    "collapsed": false
   },
   "outputs": [
    {
     "name": "stdout",
     "output_type": "stream",
     "text": [
      "10\n",
      "9\n",
      "8\n",
      "7\n",
      "6\n",
      "5\n",
      "4\n",
      "3\n",
      "2\n",
      "1\n",
      "0\n",
      "新年快樂!!!\n"
     ]
    }
   ],
   "source": [
    "number = 0\n",
    "while number <= 10:\n",
    "    count = 10 - number\n",
    "    print(count)\n",
    "    number += 1\n",
    "else:\n",
    "    print('新年快樂!!!')"
   ]
  },
  {
   "cell_type": "code",
   "execution_count": 1,
   "metadata": {
    "collapsed": false
   },
   "outputs": [
    {
     "name": "stdout",
     "output_type": "stream",
     "text": [
      "當女友問:我今天有甚麼不一樣?沒有啊\n",
      "你根本不在乎我!不然分手啊!\n",
      "當女友問:我今天有甚麼不一樣?煩死了\n",
      "你怎麼可以這樣對我?!?!?\n"
     ]
    }
   ],
   "source": [
    "while True:\n",
    "    girlfriend = input('當女友問:我今天有甚麼不一樣?')\n",
    "    if girlfriend == '煩死了':\n",
    "        print('你怎麼可以這樣對我?!?!?')\n",
    "        break\n",
    "    print('你根本不在乎我!不然分手啊!')"
   ]
  },
  {
   "cell_type": "code",
   "execution_count": 2,
   "metadata": {
    "collapsed": false
   },
   "outputs": [
    {
     "name": "stdout",
     "output_type": "stream",
     "text": [
      "Guess what is my favorite color?red\n",
      "Ha Ha! You are wrong!\n",
      "Guess what is my favorite color?purple\n",
      "Bingo!\n"
     ]
    }
   ],
   "source": [
    "while True:\n",
    "    color = input('Guess what is my favorite color?')\n",
    "    if color == 'purple':\n",
    "        print('Bingo!')\n",
    "        break\n",
    "    elif color == 'whatever!':\n",
    "        print('Um...')\n",
    "        break\n",
    "    else:\n",
    "        print('Ha Ha! You are wrong!')"
   ]
  },
  {
   "cell_type": "code",
   "execution_count": 3,
   "metadata": {
    "collapsed": false
   },
   "outputs": [
    {
     "name": "stdout",
     "output_type": "stream",
     "text": [
      "Integer, please [q to quit]:7\n",
      "7 squared is 49\n",
      "Integer, please [q to quit]:2\n",
      "Integer, please [q to quit]:3\n",
      "3 squared is 9\n",
      "Integer, please [q to quit]:1\n",
      "1 squared is 1\n",
      "Integer, please [q to quit]:q\n"
     ]
    }
   ],
   "source": [
    "while True:\n",
    "    value = input(\"Integer, please [q to quit]:\")\n",
    "    if value == \"q\":\n",
    "        break\n",
    "    number = int(value)\n",
    "    if number % 2 == 0:\n",
    "        continue\n",
    "    print(number, \"squared is\", number*number)"
   ]
  },
  {
   "cell_type": "code",
   "execution_count": 1,
   "metadata": {
    "collapsed": false
   },
   "outputs": [
    {
     "name": "stdout",
     "output_type": "stream",
     "text": [
      "找不到整除數字\n"
     ]
    }
   ],
   "source": [
    "numbers = [1,3,5]\n",
    "position = 0\n",
    "while position < len(numbers):\n",
    "    number = numbers[position]\n",
    "    if number % 2 == 0:\n",
    "        print(\"找到整除數字，數字：\",number)\n",
    "        break\n",
    "    position +=1\n",
    "else:\n",
    "    print(\"找不到整除數字\")"
   ]
  },
  {
   "cell_type": "code",
   "execution_count": 3,
   "metadata": {
    "collapsed": false
   },
   "outputs": [
    {
     "name": "stdout",
     "output_type": "stream",
     "text": [
      "LR\n",
      "WD\n",
      "596\n",
      "TT\n",
      "DJ\n"
     ]
    }
   ],
   "source": [
    "friends = ['LR', 'WD', '596', 'TT', 'DJ']\n",
    "place = 0\n",
    "while place < len(friends):\n",
    "    print(friends[place])\n",
    "    place += 1"
   ]
  },
  {
   "cell_type": "code",
   "execution_count": 4,
   "metadata": {
    "collapsed": false
   },
   "outputs": [
    {
     "name": "stdout",
     "output_type": "stream",
     "text": [
      "LR\n",
      "WD\n",
      "596\n",
      "TT\n",
      "DJ\n"
     ]
    }
   ],
   "source": [
    "friends = ['LR', 'WD', '596', 'TT', 'DJ']\n",
    "for friends in friends:\n",
    "    print(friends)"
   ]
  },
  {
   "cell_type": "code",
   "execution_count": 6,
   "metadata": {
    "collapsed": false
   },
   "outputs": [
    {
     "name": "stdout",
     "output_type": "stream",
     "text": [
      "c\n",
      "o\n",
      "a\n",
      "c\n",
      "h\n"
     ]
    }
   ],
   "source": [
    "word = 'coach'\n",
    "for word in word:\n",
    "    print(word)"
   ]
  },
  {
   "cell_type": "code",
   "execution_count": 7,
   "metadata": {
    "collapsed": false
   },
   "outputs": [
    {
     "name": "stdout",
     "output_type": "stream",
     "text": [
      "Apple\n",
      "Cake\n",
      "Banana\n"
     ]
    }
   ],
   "source": [
    "index = {'Apple':'A','Banana':'B','Cake':'C'}\n",
    "for food in index:\n",
    "    print(food)"
   ]
  },
  {
   "cell_type": "code",
   "execution_count": 8,
   "metadata": {
    "collapsed": false
   },
   "outputs": [
    {
     "name": "stdout",
     "output_type": "stream",
     "text": [
      "A\n",
      "C\n",
      "B\n"
     ]
    }
   ],
   "source": [
    "for litter in index.values():\n",
    "    print(litter)"
   ]
  },
  {
   "cell_type": "code",
   "execution_count": 9,
   "metadata": {
    "collapsed": false
   },
   "outputs": [
    {
     "name": "stdout",
     "output_type": "stream",
     "text": [
      "('Apple', 'A')\n",
      "('Cake', 'C')\n",
      "('Banana', 'B')\n"
     ]
    }
   ],
   "source": [
    "for both in index.items():\n",
    "    print(both)"
   ]
  },
  {
   "cell_type": "code",
   "execution_count": 10,
   "metadata": {
    "collapsed": false
   },
   "outputs": [
    {
     "name": "stdout",
     "output_type": "stream",
     "text": [
      "字母 A 開頭的食物是 Apple\n",
      "字母 C 開頭的食物是 Cake\n",
      "字母 B 開頭的食物是 Banana\n"
     ]
    }
   ],
   "source": [
    "for food, litter in index.items():\n",
    "    print('字母',litter,'開頭的食物是',food)"
   ]
  },
  {
   "cell_type": "code",
   "execution_count": 11,
   "metadata": {
    "collapsed": false
   },
   "outputs": [
    {
     "name": "stdout",
     "output_type": "stream",
     "text": [
      "魔鏡累了，不告訴你。\n"
     ]
    }
   ],
   "source": [
    "roles = []\n",
    "sb = False\n",
    "for roles in roles:\n",
    "    sb = True\n",
    "    print('世界上最美麗的人是...',roles)\n",
    "    break\n",
    "else:\n",
    "    print('魔鏡累了，不告訴你。')"
   ]
  },
  {
   "cell_type": "code",
   "execution_count": 17,
   "metadata": {
    "collapsed": false
   },
   "outputs": [
    {
     "name": "stdout",
     "output_type": "stream",
     "text": [
      "世界上最美麗的人是... 白雪公主\n"
     ]
    }
   ],
   "source": [
    "roles = ['白雪公主']\n",
    "sb = True\n",
    "for roles in roles:\n",
    "    sb = True\n",
    "    print('世界上最美麗的人是...',roles)\n",
    "    break\n",
    "else:\n",
    "    print('魔鏡累了，不告訴你。')"
   ]
  },
  {
   "cell_type": "code",
   "execution_count": 18,
   "metadata": {
    "collapsed": false
   },
   "outputs": [
    {
     "name": "stdout",
     "output_type": "stream",
     "text": [
      "魔鏡累了，不告訴你。\n"
     ]
    }
   ],
   "source": [
    "roles = []\n",
    "sb = False\n",
    "if not sb:\n",
    "    print('魔鏡累了，不告訴你。')"
   ]
  },
  {
   "cell_type": "code",
   "execution_count": 19,
   "metadata": {
    "collapsed": false
   },
   "outputs": [
    {
     "name": "stdout",
     "output_type": "stream",
     "text": [
      "爸爸 身穿最愛的 棉褲 腳踩著 藍白脫 出門了。\n",
      "媽媽 身穿最愛的 牛仔褲 腳踩著 高跟鞋 出門了。\n",
      "哥哥 身穿最愛的 束褲 腳踩著 布鞋 出門了。\n",
      "妹妹 身穿最愛的 裙子 腳踩著 涼鞋 出門了。\n"
     ]
    }
   ],
   "source": [
    "a = ['爸爸', '媽媽', '哥哥', '妹妹']\n",
    "b = ['藍白脫', '高跟鞋', '布鞋', '涼鞋']\n",
    "c = ['棉褲', '牛仔褲', '束褲', '裙子']\n",
    "for a, b, c in zip(a,b,c):\n",
    "    print(a,'身穿最愛的',c,'腳踩著',b,'出門了。')"
   ]
  },
  {
   "cell_type": "code",
   "execution_count": 20,
   "metadata": {
    "collapsed": false
   },
   "outputs": [
    {
     "data": {
      "text/plain": [
       "[('胡夏', '那些年'), ('五月天', '星空'), ('田馥甄', '小幸運'), ('林俊傑', '江南')]"
      ]
     },
     "execution_count": 20,
     "metadata": {},
     "output_type": "execute_result"
    }
   ],
   "source": [
    "singer = ['胡夏','五月天','田馥甄','林俊傑']\n",
    "song = ['那些年','星空','小幸運','江南']\n",
    "list(zip(singer,song))"
   ]
  },
  {
   "cell_type": "code",
   "execution_count": 21,
   "metadata": {
    "collapsed": false
   },
   "outputs": [
    {
     "data": {
      "text/plain": [
       "[('1', '七星魯皇宮'), ('2', '西沙海底墓'), ('3', '秦嶺神樹')]"
      ]
     },
     "execution_count": 21,
     "metadata": {},
     "output_type": "execute_result"
    }
   ],
   "source": [
    "number = '1','2','3'\n",
    "name = '七星魯皇宮','西沙海底墓','秦嶺神樹'\n",
    "list(zip(number,name))"
   ]
  },
  {
   "cell_type": "code",
   "execution_count": 22,
   "metadata": {
    "collapsed": false
   },
   "outputs": [
    {
     "data": {
      "text/plain": [
       "{'1': '七星魯皇宮', '2': '西沙海底墓', '3': '秦嶺神樹'}"
      ]
     },
     "execution_count": 22,
     "metadata": {},
     "output_type": "execute_result"
    }
   ],
   "source": [
    "dict(zip(number,name))"
   ]
  },
  {
   "cell_type": "code",
   "execution_count": 23,
   "metadata": {
    "collapsed": false
   },
   "outputs": [
    {
     "name": "stdout",
     "output_type": "stream",
     "text": [
      "1\n",
      "8\n",
      "15\n",
      "22\n",
      "29\n",
      "36\n",
      "43\n",
      "50\n",
      "57\n",
      "64\n",
      "71\n",
      "78\n",
      "85\n",
      "92\n",
      "99\n"
     ]
    }
   ],
   "source": [
    "for x in range(1,100,7):\n",
    "    print(x)"
   ]
  },
  {
   "cell_type": "code",
   "execution_count": 24,
   "metadata": {
    "collapsed": false
   },
   "outputs": [
    {
     "data": {
      "text/plain": [
       "[1, 2, 3, 4, 5, 6, 7]"
      ]
     },
     "execution_count": 24,
     "metadata": {},
     "output_type": "execute_result"
    }
   ],
   "source": [
    "list(range(1,8))"
   ]
  },
  {
   "cell_type": "code",
   "execution_count": 25,
   "metadata": {
    "collapsed": false
   },
   "outputs": [
    {
     "data": {
      "text/plain": [
       "[1, 6, 11, 16, 21, 26, 31, 36, 41, 46, 51, 56, 61, 66, 71, 76, 81, 86, 91, 96]"
      ]
     },
     "execution_count": 25,
     "metadata": {},
     "output_type": "execute_result"
    }
   ],
   "source": [
    "list(range(1,99,5))"
   ]
  },
  {
   "cell_type": "code",
   "execution_count": 27,
   "metadata": {
    "collapsed": false
   },
   "outputs": [
    {
     "data": {
      "text/plain": [
       "[1, 2, 3]"
      ]
     },
     "execution_count": 27,
     "metadata": {},
     "output_type": "execute_result"
    }
   ],
   "source": [
    "empty_list = []\n",
    "empty_list.append(1)\n",
    "empty_list.append(2)\n",
    "empty_list.append(3)\n",
    "empty_list"
   ]
  },
  {
   "cell_type": "code",
   "execution_count": 28,
   "metadata": {
    "collapsed": false
   },
   "outputs": [
    {
     "data": {
      "text/plain": [
       "[0, 7, 14, 21, 28, 35, 42, 49]"
      ]
     },
     "execution_count": 28,
     "metadata": {},
     "output_type": "execute_result"
    }
   ],
   "source": [
    "empty_list = []\n",
    "for number in range(0,50,7):\n",
    "    empty_list.append(number)\n",
    "empty_list"
   ]
  },
  {
   "cell_type": "code",
   "execution_count": 29,
   "metadata": {
    "collapsed": false
   },
   "outputs": [
    {
     "data": {
      "text/plain": [
       "[0, 1, 2, 3, 4, 5]"
      ]
     },
     "execution_count": 29,
     "metadata": {},
     "output_type": "execute_result"
    }
   ],
   "source": [
    "number_list = list(range(0,6))\n",
    "number_list"
   ]
  },
  {
   "cell_type": "code",
   "execution_count": 31,
   "metadata": {
    "collapsed": false
   },
   "outputs": [
    {
     "data": {
      "text/plain": [
       "[0, 1, 2, 3, 4, 5, 6]"
      ]
     },
     "execution_count": 31,
     "metadata": {},
     "output_type": "execute_result"
    }
   ],
   "source": [
    "number_list = [number for number in range(0,7)] \n",
    "number_list"
   ]
  },
  {
   "cell_type": "code",
   "execution_count": 1,
   "metadata": {
    "collapsed": false
   },
   "outputs": [
    {
     "name": "stdout",
     "output_type": "stream",
     "text": [
      "['Mon', 'Tue', 'Wed', 'Thu', 'Fri', 'Sat', 'Sun']\n"
     ]
    }
   ],
   "source": [
    "weeks = ['Mon', 'Tue', 'Wed', 'Thu', 'Fri', 'Sat', 'Sun']\n",
    "print([days for days in weeks])"
   ]
  },
  {
   "cell_type": "code",
   "execution_count": 3,
   "metadata": {
    "collapsed": false
   },
   "outputs": [
    {
     "name": "stdout",
     "output_type": "stream",
     "text": [
      "[]\n"
     ]
    }
   ],
   "source": [
    "weeks = ['Mon', 'Tue', 'Wed', 'Thu', 'Fri', 'Sat', 'Sun']\n",
    "print([days for days in weeks if len(weeks) == 6])"
   ]
  },
  {
   "cell_type": "code",
   "execution_count": 4,
   "metadata": {
    "collapsed": false
   },
   "outputs": [
    {
     "data": {
      "text/plain": [
       "[7, 8, 9, 10, 11, 12, 13]"
      ]
     },
     "execution_count": 4,
     "metadata": {},
     "output_type": "execute_result"
    }
   ],
   "source": [
    "number_list = [number for number in range(7,14)]\n",
    "number_list"
   ]
  },
  {
   "cell_type": "code",
   "execution_count": 7,
   "metadata": {
    "collapsed": false
   },
   "outputs": [
    {
     "data": {
      "text/plain": [
       "[7, 10, 13, 16, 19, 22, 25, 28, 31, 34, 37, 40, 43, 46, 49]"
      ]
     },
     "execution_count": 7,
     "metadata": {},
     "output_type": "execute_result"
    }
   ],
   "source": [
    "number_list_2 = [number for number in range(7,50) if number %3 ==1]\n",
    "number_list_2"
   ]
  },
  {
   "cell_type": "code",
   "execution_count": 11,
   "metadata": {
    "collapsed": false
   },
   "outputs": [
    {
     "data": {
      "text/plain": [
       "[7, 10, 13, 16, 19, 22, 25, 28, 31, 34, 37, 40, 43, 46, 49]"
      ]
     },
     "execution_count": 11,
     "metadata": {},
     "output_type": "execute_result"
    }
   ],
   "source": [
    "empty_list = []\n",
    "for number in range(7,50):\n",
    "    if number %3 ==1:\n",
    "        empty_list.append(number)\n",
    "        \n",
    "empty_list"
   ]
  },
  {
   "cell_type": "code",
   "execution_count": 18,
   "metadata": {
    "collapsed": false,
    "scrolled": true
   },
   "outputs": [
    {
     "name": "stdout",
     "output_type": "stream",
     "text": [
      "0\n",
      "1\n",
      "2\n",
      "3\n",
      "4\n",
      "5\n",
      "6\n",
      "1\n",
      "0\n",
      "1\n",
      "2\n",
      "3\n",
      "4\n",
      "5\n",
      "6\n",
      "2\n",
      "0\n",
      "1\n",
      "2\n",
      "3\n",
      "4\n",
      "5\n",
      "6\n",
      "3\n",
      "0\n",
      "1\n",
      "2\n",
      "3\n",
      "4\n",
      "5\n",
      "6\n",
      "4\n",
      "0\n",
      "1\n",
      "2\n",
      "3\n",
      "4\n",
      "5\n",
      "6\n",
      "5\n",
      "0\n",
      "1\n",
      "2\n",
      "3\n",
      "4\n",
      "5\n",
      "6\n",
      "6\n",
      "0\n",
      "1\n",
      "2\n",
      "3\n",
      "4\n",
      "5\n",
      "6\n",
      "7\n"
     ]
    }
   ],
   "source": [
    "A = range(1,8)\n",
    "B = range(0,7)\n",
    "for a in A:\n",
    "    for b in B:\n",
    "        print(b)\n",
    "    print(a)"
   ]
  },
  {
   "cell_type": "code",
   "execution_count": 19,
   "metadata": {
    "collapsed": false,
    "scrolled": true
   },
   "outputs": [
    {
     "name": "stdout",
     "output_type": "stream",
     "text": [
      "0 1\n",
      "1 1\n",
      "2 1\n",
      "3 1\n",
      "4 1\n",
      "5 1\n",
      "6 1\n",
      "0 2\n",
      "1 2\n",
      "2 2\n",
      "3 2\n",
      "4 2\n",
      "5 2\n",
      "6 2\n",
      "0 3\n",
      "1 3\n",
      "2 3\n",
      "3 3\n",
      "4 3\n",
      "5 3\n",
      "6 3\n",
      "0 4\n",
      "1 4\n",
      "2 4\n",
      "3 4\n",
      "4 4\n",
      "5 4\n",
      "6 4\n",
      "0 5\n",
      "1 5\n",
      "2 5\n",
      "3 5\n",
      "4 5\n",
      "5 5\n",
      "6 5\n",
      "0 6\n",
      "1 6\n",
      "2 6\n",
      "3 6\n",
      "4 6\n",
      "5 6\n",
      "6 6\n",
      "0 7\n",
      "1 7\n",
      "2 7\n",
      "3 7\n",
      "4 7\n",
      "5 7\n",
      "6 7\n"
     ]
    }
   ],
   "source": [
    "A = range(1,8)\n",
    "B = range(0,7)\n",
    "for a in A:\n",
    "    for b in B:\n",
    "        print(b,a)"
   ]
  },
  {
   "cell_type": "code",
   "execution_count": 21,
   "metadata": {
    "collapsed": false,
    "scrolled": true
   },
   "outputs": [
    {
     "data": {
      "text/plain": [
       "[(1, 0),\n",
       " (1, 1),\n",
       " (1, 2),\n",
       " (1, 3),\n",
       " (1, 4),\n",
       " (1, 5),\n",
       " (1, 6),\n",
       " (2, 0),\n",
       " (2, 1),\n",
       " (2, 2),\n",
       " (2, 3),\n",
       " (2, 4),\n",
       " (2, 5),\n",
       " (2, 6),\n",
       " (3, 0),\n",
       " (3, 1),\n",
       " (3, 2),\n",
       " (3, 3),\n",
       " (3, 4),\n",
       " (3, 5),\n",
       " (3, 6),\n",
       " (4, 0),\n",
       " (4, 1),\n",
       " (4, 2),\n",
       " (4, 3),\n",
       " (4, 4),\n",
       " (4, 5),\n",
       " (4, 6),\n",
       " (5, 0),\n",
       " (5, 1),\n",
       " (5, 2),\n",
       " (5, 3),\n",
       " (5, 4),\n",
       " (5, 5),\n",
       " (5, 6),\n",
       " (6, 0),\n",
       " (6, 1),\n",
       " (6, 2),\n",
       " (6, 3),\n",
       " (6, 4),\n",
       " (6, 5),\n",
       " (6, 6),\n",
       " (7, 0),\n",
       " (7, 1),\n",
       " (7, 2),\n",
       " (7, 3),\n",
       " (7, 4),\n",
       " (7, 5),\n",
       " (7, 6)]"
      ]
     },
     "execution_count": 21,
     "metadata": {},
     "output_type": "execute_result"
    }
   ],
   "source": [
    "A = range(1,8)\n",
    "B = range(0,7)\n",
    "conb = [(a,b) for a in A for b in B]\n",
    "conb"
   ]
  },
  {
   "cell_type": "code",
   "execution_count": 22,
   "metadata": {
    "collapsed": false,
    "scrolled": true
   },
   "outputs": [
    {
     "name": "stdout",
     "output_type": "stream",
     "text": [
      "(1, 0)\n",
      "(1, 1)\n",
      "(1, 2)\n",
      "(1, 3)\n",
      "(1, 4)\n",
      "(1, 5)\n",
      "(1, 6)\n",
      "(2, 0)\n",
      "(2, 1)\n",
      "(2, 2)\n",
      "(2, 3)\n",
      "(2, 4)\n",
      "(2, 5)\n",
      "(2, 6)\n",
      "(3, 0)\n",
      "(3, 1)\n",
      "(3, 2)\n",
      "(3, 3)\n",
      "(3, 4)\n",
      "(3, 5)\n",
      "(3, 6)\n",
      "(4, 0)\n",
      "(4, 1)\n",
      "(4, 2)\n",
      "(4, 3)\n",
      "(4, 4)\n",
      "(4, 5)\n",
      "(4, 6)\n",
      "(5, 0)\n",
      "(5, 1)\n",
      "(5, 2)\n",
      "(5, 3)\n",
      "(5, 4)\n",
      "(5, 5)\n",
      "(5, 6)\n",
      "(6, 0)\n",
      "(6, 1)\n",
      "(6, 2)\n",
      "(6, 3)\n",
      "(6, 4)\n",
      "(6, 5)\n",
      "(6, 6)\n",
      "(7, 0)\n",
      "(7, 1)\n",
      "(7, 2)\n",
      "(7, 3)\n",
      "(7, 4)\n",
      "(7, 5)\n",
      "(7, 6)\n"
     ]
    }
   ],
   "source": [
    "A = range(1,8)\n",
    "B = range(0,7)\n",
    "conb = [(a,b) for a in A for b in B]\n",
    "for conbs in conb:\n",
    "    print(conbs)"
   ]
  },
  {
   "cell_type": "code",
   "execution_count": 24,
   "metadata": {
    "collapsed": false,
    "scrolled": true
   },
   "outputs": [
    {
     "name": "stdout",
     "output_type": "stream",
     "text": [
      "('1', '張啟山')\n",
      "('1', '二月紅')\n",
      "('1', '半截李')\n",
      "('1', '陳皮阿四')\n",
      "('1', '吳老狗')\n",
      "('1', '黑背老六')\n",
      "('1', '霍仙姑')\n",
      "('1', '齊鐵嘴')\n",
      "('1', '解九爺')\n",
      "('2', '張啟山')\n",
      "('2', '二月紅')\n",
      "('2', '半截李')\n",
      "('2', '陳皮阿四')\n",
      "('2', '吳老狗')\n",
      "('2', '黑背老六')\n",
      "('2', '霍仙姑')\n",
      "('2', '齊鐵嘴')\n",
      "('2', '解九爺')\n",
      "('3', '張啟山')\n",
      "('3', '二月紅')\n",
      "('3', '半截李')\n",
      "('3', '陳皮阿四')\n",
      "('3', '吳老狗')\n",
      "('3', '黑背老六')\n",
      "('3', '霍仙姑')\n",
      "('3', '齊鐵嘴')\n",
      "('3', '解九爺')\n",
      "('4', '張啟山')\n",
      "('4', '二月紅')\n",
      "('4', '半截李')\n",
      "('4', '陳皮阿四')\n",
      "('4', '吳老狗')\n",
      "('4', '黑背老六')\n",
      "('4', '霍仙姑')\n",
      "('4', '齊鐵嘴')\n",
      "('4', '解九爺')\n",
      "('5', '張啟山')\n",
      "('5', '二月紅')\n",
      "('5', '半截李')\n",
      "('5', '陳皮阿四')\n",
      "('5', '吳老狗')\n",
      "('5', '黑背老六')\n",
      "('5', '霍仙姑')\n",
      "('5', '齊鐵嘴')\n",
      "('5', '解九爺')\n",
      "('6', '張啟山')\n",
      "('6', '二月紅')\n",
      "('6', '半截李')\n",
      "('6', '陳皮阿四')\n",
      "('6', '吳老狗')\n",
      "('6', '黑背老六')\n",
      "('6', '霍仙姑')\n",
      "('6', '齊鐵嘴')\n",
      "('6', '解九爺')\n",
      "('7', '張啟山')\n",
      "('7', '二月紅')\n",
      "('7', '半截李')\n",
      "('7', '陳皮阿四')\n",
      "('7', '吳老狗')\n",
      "('7', '黑背老六')\n",
      "('7', '霍仙姑')\n",
      "('7', '齊鐵嘴')\n",
      "('7', '解九爺')\n",
      "('8', '張啟山')\n",
      "('8', '二月紅')\n",
      "('8', '半截李')\n",
      "('8', '陳皮阿四')\n",
      "('8', '吳老狗')\n",
      "('8', '黑背老六')\n",
      "('8', '霍仙姑')\n",
      "('8', '齊鐵嘴')\n",
      "('8', '解九爺')\n",
      "('9', '張啟山')\n",
      "('9', '二月紅')\n",
      "('9', '半截李')\n",
      "('9', '陳皮阿四')\n",
      "('9', '吳老狗')\n",
      "('9', '黑背老六')\n",
      "('9', '霍仙姑')\n",
      "('9', '齊鐵嘴')\n",
      "('9', '解九爺')\n"
     ]
    }
   ],
   "source": [
    "number = ['1', '2', '3', '4', '5', '6', '7', '8', '9']\n",
    "name = ['張啟山', '二月紅', '半截李', '陳皮阿四', '吳老狗', '黑背老六', '霍仙姑', '齊鐵嘴', '解九爺']\n",
    "novel = [(a,b) for a in number for b in name]\n",
    "for novels in novel:\n",
    "    print(novels)"
   ]
  },
  {
   "cell_type": "code",
   "execution_count": 26,
   "metadata": {
    "collapsed": false,
    "scrolled": true
   },
   "outputs": [
    {
     "name": "stdout",
     "output_type": "stream",
     "text": [
      "1 0\n",
      "1 1\n",
      "1 2\n",
      "1 3\n",
      "1 4\n",
      "1 5\n",
      "1 6\n",
      "2 0\n",
      "2 1\n",
      "2 2\n",
      "2 3\n",
      "2 4\n",
      "2 5\n",
      "2 6\n",
      "3 0\n",
      "3 1\n",
      "3 2\n",
      "3 3\n",
      "3 4\n",
      "3 5\n",
      "3 6\n",
      "4 0\n",
      "4 1\n",
      "4 2\n",
      "4 3\n",
      "4 4\n",
      "4 5\n",
      "4 6\n",
      "5 0\n",
      "5 1\n",
      "5 2\n",
      "5 3\n",
      "5 4\n",
      "5 5\n",
      "5 6\n",
      "6 0\n",
      "6 1\n",
      "6 2\n",
      "6 3\n",
      "6 4\n",
      "6 5\n",
      "6 6\n",
      "7 0\n",
      "7 1\n",
      "7 2\n",
      "7 3\n",
      "7 4\n",
      "7 5\n",
      "7 6\n"
     ]
    }
   ],
   "source": [
    "for a,b in conb:\n",
    "    print(a, b)"
   ]
  },
  {
   "cell_type": "code",
   "execution_count": 32,
   "metadata": {
    "collapsed": false,
    "scrolled": true
   },
   "outputs": [
    {
     "name": "stdout",
     "output_type": "stream",
     "text": [
      "1\n",
      "2\n",
      "3\n",
      "4\n",
      "5\n",
      "6\n",
      "7\n",
      "8\n",
      "9\n",
      "2\n",
      "4\n",
      "6\n",
      "8\n",
      "10\n",
      "12\n",
      "14\n",
      "16\n",
      "18\n",
      "3\n",
      "6\n",
      "9\n",
      "12\n",
      "15\n",
      "18\n",
      "21\n",
      "24\n",
      "27\n",
      "4\n",
      "8\n",
      "12\n",
      "16\n",
      "20\n",
      "24\n",
      "28\n",
      "32\n",
      "36\n",
      "5\n",
      "10\n",
      "15\n",
      "20\n",
      "25\n",
      "30\n",
      "35\n",
      "40\n",
      "45\n",
      "6\n",
      "12\n",
      "18\n",
      "24\n",
      "30\n",
      "36\n",
      "42\n",
      "48\n",
      "54\n",
      "7\n",
      "14\n",
      "21\n",
      "28\n",
      "35\n",
      "42\n",
      "49\n",
      "56\n",
      "63\n",
      "8\n",
      "16\n",
      "24\n",
      "32\n",
      "40\n",
      "48\n",
      "56\n",
      "64\n",
      "72\n",
      "9\n",
      "18\n",
      "27\n",
      "36\n",
      "45\n",
      "54\n",
      "63\n",
      "72\n",
      "81\n"
     ]
    }
   ],
   "source": [
    "c_a = range(1,10)\n",
    "c_b = range(1,10)\n",
    "cross = [a * b for a in c_a for b in c_b]\n",
    "for number_cross in cross:\n",
    "    print(number_cross)"
   ]
  },
  {
   "cell_type": "code",
   "execution_count": null,
   "metadata": {
    "collapsed": true
   },
   "outputs": [],
   "source": []
  }
 ],
 "metadata": {
  "kernelspec": {
   "display_name": "Python 3",
   "language": "python",
   "name": "python3"
  },
  "language_info": {
   "codemirror_mode": {
    "name": "ipython",
    "version": 3
   },
   "file_extension": ".py",
   "mimetype": "text/x-python",
   "name": "python",
   "nbconvert_exporter": "python",
   "pygments_lexer": "ipython3",
   "version": "3.4.3"
  }
 },
 "nbformat": 4,
 "nbformat_minor": 0
}
