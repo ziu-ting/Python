{
 "cells": [
  {
   "cell_type": "code",
   "execution_count": 1,
   "metadata": {
    "collapsed": true
   },
   "outputs": [],
   "source": [
    "#python 第四章節內容"
   ]
  },
  {
   "cell_type": "code",
   "execution_count": 2,
   "metadata": {
    "collapsed": false
   },
   "outputs": [
    {
     "data": {
      "text/plain": [
       "9"
      ]
     },
     "execution_count": 2,
     "metadata": {},
     "output_type": "execute_result"
    }
   ],
   "source": [
    "1 + 2 + 2\\\n",
    "+\\\n",
    "4"
   ]
  },
  {
   "cell_type": "code",
   "execution_count": 1,
   "metadata": {
    "collapsed": false
   },
   "outputs": [
    {
     "name": "stdout",
     "output_type": "stream",
     "text": [
      "Kill it!\n"
     ]
    }
   ],
   "source": [
    "Drug = True\n",
    "if Drug:\n",
    "    print('Kill it!')\n",
    "else:\n",
    "    print('You are a good guy.')"
   ]
  },
  {
   "cell_type": "code",
   "execution_count": 5,
   "metadata": {
    "collapsed": false
   },
   "outputs": [
    {
     "name": "stdout",
     "output_type": "stream",
     "text": [
      "How cute a cat !\n"
     ]
    }
   ],
   "source": [
    "It_is_a_cat = True\n",
    "It_is_a＿real_cat = True\n",
    "if It_is_a_cat:\n",
    "    if It_is_a_real_cat:\n",
    "        print('How cute a cat !')\n",
    "    else:\n",
    "        print('Disgusting !! Kill it hurry !!')\n",
    "else:\n",
    "    if It_is_a_real_cat:\n",
    "        print('Uh......?')\n",
    "    else:\n",
    "        print('What is it ?')\n"
   ]
  },
  {
   "cell_type": "code",
   "execution_count": null,
   "metadata": {
    "collapsed": false
   },
   "outputs": [],
   "source": [
    "while True:\n",
    "    words = input(\"你剛說什麼我沒聽到?\")\n",
    "    if words == \"我不想理你了\":\n",
    "        break\n",
    "    elif words == \"你聽錯了吧\":\n",
    "        print(\"...好吧!\")\n",
    "    else:\n",
    "        print(\"喔!是喔!\")"
   ]
  },
  {
   "cell_type": "code",
   "execution_count": null,
   "metadata": {
    "collapsed": true
   },
   "outputs": [],
   "source": []
  }
 ],
 "metadata": {
  "kernelspec": {
   "display_name": "Python 3",
   "language": "python",
   "name": "python3"
  },
  "language_info": {
   "codemirror_mode": {
    "name": "ipython",
    "version": 3
   },
   "file_extension": ".py",
   "mimetype": "text/x-python",
   "name": "python",
   "nbconvert_exporter": "python",
   "pygments_lexer": "ipython3",
   "version": "3.4.3"
  }
 },
 "nbformat": 4,
 "nbformat_minor": 0
}
